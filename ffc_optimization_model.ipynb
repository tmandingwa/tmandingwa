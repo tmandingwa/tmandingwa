{
  "nbformat": 4,
  "nbformat_minor": 0,
  "metadata": {
    "colab": {
      "provenance": [],
      "include_colab_link": true
    },
    "kernelspec": {
      "name": "python3",
      "display_name": "Python 3"
    },
    "language_info": {
      "name": "python"
    }
  },
  "cells": [
    {
      "cell_type": "markdown",
      "metadata": {
        "id": "view-in-github",
        "colab_type": "text"
      },
      "source": [
        "<a href=\"https://colab.research.google.com/github/tmandingwa/tmandingwa/blob/main/ffc_optimization_model.ipynb\" target=\"_parent\"><img src=\"https://colab.research.google.com/assets/colab-badge.svg\" alt=\"Open In Colab\"/></a>"
      ]
    },
    {
      "cell_type": "markdown",
      "source": [
        "This would be our first instance building and solving an optimization model with python."
      ],
      "metadata": {
        "id": "oiPGAEVpEqsW"
      }
    },
    {
      "cell_type": "markdown",
      "source": [
        "# 1 Running Optimizations with Google Colab\n",
        "\n",
        "We will be using google colab for most of our class. Everything will be executed over the cloud service. This saves you from installing anything on your own local machine. The (small) downside is that you have to install python packages to the colab instance (Steps 1 and 2) at the start of each Colab session.\n",
        "\n",
        "Alternatively, if you prefer to use a local python installation, here is a good [guide](https://github.com/jckantor/ND-Pyomo-Cookbook/blob/main/notebooks/01.01-Installing-Pyomo.ipynb) on how to do get the packages installed, which you only need to do once."
      ],
      "metadata": {
        "id": "Q5Z9ixexuUFo"
      }
    },
    {
      "cell_type": "markdown",
      "source": [
        "## 1.1 Basic installation of Pyomo\n",
        "\n",
        "PYOMO is a Python-based, open-source software package and optimization MODELING LANGUAGE that allows users to formulate, solve, and analyze optimization models.\n",
        "\n",
        "We'll do a quiet installation of pyomo using `pip`.  This needs to be done once at the start of each Colab session.\n"
      ],
      "metadata": {
        "id": "d67ApQofvctC"
      }
    },
    {
      "cell_type": "code",
      "execution_count": null,
      "metadata": {
        "id": "S7E558DiEhYe",
        "collapsed": true
      },
      "outputs": [],
      "source": [
        "!pip install -q pyomo\n",
        "import pyomo.environ as pyo"
      ]
    },
    {
      "cell_type": "markdown",
      "source": [
        "## 1.2 Installation of Solver Engines\n",
        "\n",
        "[GLPK](https://en.wikibooks.org/wiki/GLPK) is a the open-source **G**NU **L**inear **P**rogramming **K**it available for use under the GNU General Public License 3. GLPK is a single-threaded simplex solver generally suited to small to medium scale linear-integer programming problems. It is written in C with minimal dependencies and is therefore highly portable among computers and operating systems. GLPK is often 'good enough' for many examples. For larger problems users should consider higher-performance solvers, such as COIN-OR CBC, that can take advantage of multi-threaded processors.\n",
        "\n",
        "This also needs to be done once at the start of each Colab session. We will use different engines throughout the course. Here is how you install the different [engines](https://colab.research.google.com/github/jckantor/ND-Pyomo-Cookbook/blob/master/docs/01.02-Running-Pyomo-on-Google-Colab.ipynb#scrollTo=dGbhGS4u7vyV)."
      ],
      "metadata": {
        "id": "dPwM1sv4iMbs"
      }
    },
    {
      "cell_type": "code",
      "source": [
        "!apt-get install -y -qq glpk-utils"
      ],
      "metadata": {
        "id": "bdx03OQduQnR",
        "collapsed": true,
        "colab": {
          "base_uri": "https://localhost:8080/"
        },
        "outputId": "a9354fc2-c80b-4b01-ea1f-88f43e3b1ea3"
      },
      "execution_count": null,
      "outputs": [
        {
          "output_type": "stream",
          "name": "stdout",
          "text": [
            "Selecting previously unselected package libsuitesparseconfig5:amd64.\n",
            "(Reading database ... 126718 files and directories currently installed.)\n",
            "Preparing to unpack .../libsuitesparseconfig5_1%3a5.10.1+dfsg-4build1_amd64.deb ...\n",
            "Unpacking libsuitesparseconfig5:amd64 (1:5.10.1+dfsg-4build1) ...\n",
            "Selecting previously unselected package libamd2:amd64.\n",
            "Preparing to unpack .../libamd2_1%3a5.10.1+dfsg-4build1_amd64.deb ...\n",
            "Unpacking libamd2:amd64 (1:5.10.1+dfsg-4build1) ...\n",
            "Selecting previously unselected package libcolamd2:amd64.\n",
            "Preparing to unpack .../libcolamd2_1%3a5.10.1+dfsg-4build1_amd64.deb ...\n",
            "Unpacking libcolamd2:amd64 (1:5.10.1+dfsg-4build1) ...\n",
            "Selecting previously unselected package libglpk40:amd64.\n",
            "Preparing to unpack .../libglpk40_5.0-1_amd64.deb ...\n",
            "Unpacking libglpk40:amd64 (5.0-1) ...\n",
            "Selecting previously unselected package glpk-utils.\n",
            "Preparing to unpack .../glpk-utils_5.0-1_amd64.deb ...\n",
            "Unpacking glpk-utils (5.0-1) ...\n",
            "Setting up libsuitesparseconfig5:amd64 (1:5.10.1+dfsg-4build1) ...\n",
            "Setting up libamd2:amd64 (1:5.10.1+dfsg-4build1) ...\n",
            "Setting up libcolamd2:amd64 (1:5.10.1+dfsg-4build1) ...\n",
            "Setting up libglpk40:amd64 (5.0-1) ...\n",
            "Setting up glpk-utils (5.0-1) ...\n",
            "Processing triggers for man-db (2.10.2-1) ...\n",
            "Processing triggers for libc-bin (2.35-0ubuntu3.8) ...\n",
            "/sbin/ldconfig.real: /usr/local/lib/libur_adapter_level_zero.so.0 is not a symbolic link\n",
            "\n",
            "/sbin/ldconfig.real: /usr/local/lib/libur_adapter_opencl.so.0 is not a symbolic link\n",
            "\n",
            "/sbin/ldconfig.real: /usr/local/lib/libumf.so.0 is not a symbolic link\n",
            "\n",
            "/sbin/ldconfig.real: /usr/local/lib/libtcm.so.1 is not a symbolic link\n",
            "\n",
            "/sbin/ldconfig.real: /usr/local/lib/libtbbbind_2_0.so.3 is not a symbolic link\n",
            "\n",
            "/sbin/ldconfig.real: /usr/local/lib/libtcm_debug.so.1 is not a symbolic link\n",
            "\n",
            "/sbin/ldconfig.real: /usr/local/lib/libhwloc.so.15 is not a symbolic link\n",
            "\n",
            "/sbin/ldconfig.real: /usr/local/lib/libtbbmalloc.so.2 is not a symbolic link\n",
            "\n",
            "/sbin/ldconfig.real: /usr/local/lib/libtbbmalloc_proxy.so.2 is not a symbolic link\n",
            "\n",
            "/sbin/ldconfig.real: /usr/local/lib/libur_adapter_level_zero_v2.so.0 is not a symbolic link\n",
            "\n",
            "/sbin/ldconfig.real: /usr/local/lib/libtbbbind.so.3 is not a symbolic link\n",
            "\n",
            "/sbin/ldconfig.real: /usr/local/lib/libur_loader.so.0 is not a symbolic link\n",
            "\n",
            "/sbin/ldconfig.real: /usr/local/lib/libtbb.so.12 is not a symbolic link\n",
            "\n",
            "/sbin/ldconfig.real: /usr/local/lib/libtbbbind_2_5.so.3 is not a symbolic link\n",
            "\n"
          ]
        }
      ]
    },
    {
      "cell_type": "markdown",
      "source": [
        "# 2 Step-by-step to create and execute an optimization model"
      ],
      "metadata": {
        "id": "4yG-b8pYn-zJ"
      }
    },
    {
      "cell_type": "code",
      "source": [
        "# Create a model, and display the model.\n",
        "model = pyo.ConcreteModel('My coll optimisation model')"
      ],
      "metadata": {
        "id": "l_0swtGYna05"
      },
      "execution_count": null,
      "outputs": []
    },
    {
      "cell_type": "code",
      "source": [
        "# Declare variables\n",
        "# These creates two objects. One called 'cars', one called 'trucks'\n",
        "# These are variables\n",
        "model.cars=pyo.Var(domain=pyo.NonNegativeIntegers)\n",
        "model.trucks=pyo.Var(domain=pyo.NonNegativeIntegers)"
      ],
      "metadata": {
        "id": "Ibd4x8T9rROr"
      },
      "execution_count": null,
      "outputs": []
    },
    {
      "cell_type": "code",
      "source": [
        "# Define constraints\n",
        "model.labor=pyo.Constraint(expr=4*model.cars + 6*model.trucks <= 500)\n",
        "model.machine=pyo.Constraint(expr=12*model.cars + 8*model.trucks <= 800)"
      ],
      "metadata": {
        "id": "u9E2akRHuO5F",
        "colab": {
          "base_uri": "https://localhost:8080/"
        },
        "outputId": "5224b0d6-cfe6-48cf-d3ae-1cfb21dd4c13"
      },
      "execution_count": null,
      "outputs": [
        {
          "output_type": "stream",
          "name": "stderr",
          "text": [
            "WARNING:pyomo.core:Implicitly replacing the Component attribute labor (type=<class 'pyomo.core.base.constraint.ScalarConstraint'>) on block My coll optimisation model with a new Component (type=<class 'pyomo.core.base.constraint.AbstractScalarConstraint'>).\n",
            "This is usually indicative of a modelling error.\n",
            "To avoid this warning, use block.del_component() and block.add_component().\n",
            "WARNING:pyomo.core:Implicitly replacing the Component attribute machine (type=<class 'pyomo.core.base.constraint.ScalarConstraint'>) on block My coll optimisation model with a new Component (type=<class 'pyomo.core.base.constraint.AbstractScalarConstraint'>).\n",
            "This is usually indicative of a modelling error.\n",
            "To avoid this warning, use block.del_component() and block.add_component().\n"
          ]
        }
      ]
    },
    {
      "cell_type": "code",
      "source": [
        "# Define objective\n",
        "model.profit = pyo.Objective(expr=5*model.cars + 4*model.trucks, sense=pyo.maximize)"
      ],
      "metadata": {
        "id": "DvenJQNjvqdP"
      },
      "execution_count": null,
      "outputs": []
    },
    {
      "cell_type": "code",
      "source": [
        "# Check model\n",
        "model.pprint()"
      ],
      "metadata": {
        "id": "bhpPV20ni-9P",
        "colab": {
          "base_uri": "https://localhost:8080/"
        },
        "outputId": "99c4701b-e128-4e13-f873-33d7d954cdcd"
      },
      "execution_count": null,
      "outputs": [
        {
          "output_type": "stream",
          "name": "stdout",
          "text": [
            "2 Var Declarations\n",
            "    cars : Size=1, Index=None\n",
            "        Key  : Lower : Value : Upper : Fixed : Stale : Domain\n",
            "        None :     0 :  None :  None : False :  True : NonNegativeIntegers\n",
            "    trucks : Size=1, Index=None\n",
            "        Key  : Lower : Value : Upper : Fixed : Stale : Domain\n",
            "        None :     0 :  None :  None : False :  True : NonNegativeIntegers\n",
            "\n",
            "1 Objective Declarations\n",
            "    profit : Size=1, Index=None, Active=True\n",
            "        Key  : Active : Sense    : Expression\n",
            "        None :   True : maximize : 5*cars + 4*trucks\n",
            "\n",
            "2 Constraint Declarations\n",
            "    labor : Size=1, Index=None, Active=True\n",
            "        Key  : Lower : Body              : Upper : Active\n",
            "        None :  -Inf : 4*cars + 6*trucks : 500.0 :   True\n",
            "    machine : Size=1, Index=None, Active=True\n",
            "        Key  : Lower : Body               : Upper : Active\n",
            "        None :  -Inf : 12*cars + 8*trucks : 800.0 :   True\n",
            "\n",
            "5 Declarations: cars trucks labor machine profit\n"
          ]
        }
      ]
    },
    {
      "cell_type": "code",
      "source": [
        "# Solve\n",
        "solver = pyo.SolverFactory('glpk')\n",
        "solver.solve(model)"
      ],
      "metadata": {
        "id": "pENukYaTvsmp",
        "colab": {
          "base_uri": "https://localhost:8080/"
        },
        "outputId": "b43ddd06-74c2-452b-ee63-3d51a9cc8d6a"
      },
      "execution_count": null,
      "outputs": [
        {
          "output_type": "execute_result",
          "data": {
            "text/plain": [
              "{'Problem': [{'Name': 'unknown', 'Lower bound': 380.0, 'Upper bound': 380.0, 'Number of objectives': 1, 'Number of constraints': 2, 'Number of variables': 2, 'Number of nonzeros': 4, 'Sense': 'maximize'}], 'Solver': [{'Status': 'ok', 'Termination condition': 'optimal', 'Statistics': {'Branch and bound': {'Number of bounded subproblems': '1', 'Number of created subproblems': '1'}}, 'Error rc': 0, 'Time': 0.003826618194580078}], 'Solution': [OrderedDict({'number of solutions': 0, 'number of solutions displayed': 0})]}"
            ]
          },
          "metadata": {},
          "execution_count": 10
        }
      ]
    },
    {
      "cell_type": "code",
      "source": [
        "# Display / obtain solutions\n",
        "model.display()\n"
      ],
      "metadata": {
        "id": "Y5b4rOzeyIeW",
        "colab": {
          "base_uri": "https://localhost:8080/"
        },
        "outputId": "3bdc2f0c-dc1a-479a-d976-abff8852c098"
      },
      "execution_count": null,
      "outputs": [
        {
          "output_type": "stream",
          "name": "stdout",
          "text": [
            "Model My coll optimisation model\n",
            "\n",
            "  Variables:\n",
            "    cars : Size=1, Index=None\n",
            "        Key  : Lower : Value : Upper : Fixed : Stale : Domain\n",
            "        None :     0 :  20.0 :  None : False : False : NonNegativeIntegers\n",
            "    trucks : Size=1, Index=None\n",
            "        Key  : Lower : Value : Upper : Fixed : Stale : Domain\n",
            "        None :     0 :  70.0 :  None : False : False : NonNegativeIntegers\n",
            "\n",
            "  Objectives:\n",
            "    profit : Size=1, Index=None, Active=True\n",
            "        Key  : Active : Value\n",
            "        None :   True : 380.0\n",
            "\n",
            "  Constraints:\n",
            "    labor : Size=1\n",
            "        Key  : Lower : Body  : Upper\n",
            "        None :  None : 500.0 : 500.0\n",
            "    machine : Size=1\n",
            "        Key  : Lower : Body  : Upper\n",
            "        None :  None : 800.0 : 800.0\n"
          ]
        }
      ]
    },
    {
      "cell_type": "markdown",
      "source": [
        "# 3 How the completed solution should look"
      ],
      "metadata": {
        "id": "a2_N0QqDnnrr"
      }
    },
    {
      "cell_type": "code",
      "source": [
        "# Check Model\n",
        "model.pprint()"
      ],
      "metadata": {
        "id": "-BwZpTv-E0ga",
        "colab": {
          "base_uri": "https://localhost:8080/"
        },
        "outputId": "3eb0dc99-e782-4af4-9a2e-87bd2f986b73"
      },
      "execution_count": null,
      "outputs": [
        {
          "output_type": "stream",
          "name": "stdout",
          "text": [
            "2 Var Declarations\n",
            "    cars : Size=1, Index=None\n",
            "        Key  : Lower : Value : Upper : Fixed : Stale : Domain\n",
            "        None :     0 :  None :  None : False :  True : NonNegativeReals\n",
            "    trucks : Size=1, Index=None\n",
            "        Key  : Lower : Value : Upper : Fixed : Stale : Domain\n",
            "        None :     0 :  None :  None : False :  True : NonNegativeReals\n",
            "\n",
            "1 Objective Declarations\n",
            "    profit : Size=1, Index=None, Active=True\n",
            "        Key  : Active : Sense    : Expression\n",
            "        None :   True : maximize : 5*cars + 4*trucks\n",
            "\n",
            "2 Constraint Declarations\n",
            "    labor : Size=1, Index=None, Active=True\n",
            "        Key  : Lower : Body              : Upper : Active\n",
            "        None :  -Inf : 4*cars + 6*trucks : 500.0 :   True\n",
            "    machine : Size=1, Index=None, Active=True\n",
            "        Key  : Lower : Body               : Upper : Active\n",
            "        None :  -Inf : 12*cars + 8*trucks : 800.0 :   True\n",
            "\n",
            "5 Declarations: cars trucks labor machine profit\n"
          ]
        }
      ]
    },
    {
      "cell_type": "code",
      "source": [
        "model.display()"
      ],
      "metadata": {
        "colab": {
          "base_uri": "https://localhost:8080/"
        },
        "id": "n7aXrCI0v9-H",
        "outputId": "f8974097-5003-450a-8b53-ad16b3a47a71"
      },
      "execution_count": null,
      "outputs": [
        {
          "output_type": "stream",
          "name": "stdout",
          "text": [
            "Model Cars and Trucks\n",
            "\n",
            "  Variables:\n",
            "    cars : Size=1, Index=None\n",
            "        Key  : Lower : Value : Upper : Fixed : Stale : Domain\n",
            "        None :     0 :  20.0 :  None : False : False : NonNegativeReals\n",
            "    trucks : Size=1, Index=None\n",
            "        Key  : Lower : Value : Upper : Fixed : Stale : Domain\n",
            "        None :     0 :  70.0 :  None : False : False : NonNegativeReals\n",
            "\n",
            "  Objectives:\n",
            "    profit : Size=1, Index=None, Active=True\n",
            "        Key  : Active : Value\n",
            "        None :   True : 380.0\n",
            "\n",
            "  Constraints:\n",
            "    labor : Size=1\n",
            "        Key  : Lower : Body  : Upper\n",
            "        None :  None : 500.0 : 500.0\n",
            "    machine : Size=1\n",
            "        Key  : Lower : Body  : Upper\n",
            "        None :  None : 800.0 : 800.0\n"
          ]
        }
      ]
    }
  ]
}