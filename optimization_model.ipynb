{
  "nbformat": 4,
  "nbformat_minor": 0,
  "metadata": {
    "colab": {
      "provenance": [],
      "include_colab_link": true
    },
    "kernelspec": {
      "name": "python3",
      "display_name": "Python 3"
    },
    "language_info": {
      "name": "python"
    }
  },
  "cells": [
    {
      "cell_type": "markdown",
      "metadata": {
        "id": "view-in-github",
        "colab_type": "text"
      },
      "source": [
        "<a href=\"https://colab.research.google.com/github/tmandingwa/tmandingwa/blob/main/optimization_model.ipynb\" target=\"_parent\"><img src=\"https://colab.research.google.com/assets/colab-badge.svg\" alt=\"Open In Colab\"/></a>"
      ]
    },
    {
      "cell_type": "markdown",
      "source": [
        "This would be our first instance building and solving an optimization model with python."
      ],
      "metadata": {
        "id": "oiPGAEVpEqsW"
      }
    },
    {
      "cell_type": "markdown",
      "source": [
        "# 1 Running Optimizations with Google Colab\n",
        "\n",
        "We will be using google colab for most of our class. Everything will be executed over the cloud service. This saves you from installing anything on your own local machine. The (small) downside is that you have to install python packages to the colab instance (Steps 1 and 2) at the start of each Colab session.\n",
        "\n",
        "Alternatively, if you prefer to use a local python installation, here is a good [guide](https://github.com/jckantor/ND-Pyomo-Cookbook/blob/main/notebooks/01.01-Installing-Pyomo.ipynb) on how to do get the packages installed, which you only need to do once."
      ],
      "metadata": {
        "id": "Q5Z9ixexuUFo"
      }
    },
    {
      "cell_type": "markdown",
      "source": [
        "## 1.1 Basic installation of Pyomo\n",
        "\n",
        "PYOMO is a Python-based, open-source software package and optimization MODELING LANGUAGE that allows users to formulate, solve, and analyze optimization models.\n",
        "\n",
        "We'll do a quiet installation of pyomo using `pip`.  This needs to be done once at the start of each Colab session.\n"
      ],
      "metadata": {
        "id": "d67ApQofvctC"
      }
    },
    {
      "cell_type": "code",
      "execution_count": 1,
      "metadata": {
        "id": "S7E558DiEhYe",
        "collapsed": true
      },
      "outputs": [],
      "source": [
        "!pip install -q pyomo\n",
        "import pyomo.environ as pyo"
      ]
    },
    {
      "cell_type": "markdown",
      "source": [
        "## 1.2 Installation of Solver Engines\n",
        "\n",
        "[GLPK](https://en.wikibooks.org/wiki/GLPK) is a the open-source **G**NU **L**inear **P**rogramming **K**it available for use under the GNU General Public License 3. GLPK is a single-threaded simplex solver generally suited to small to medium scale linear-integer programming problems. It is written in C with minimal dependencies and is therefore highly portable among computers and operating systems. GLPK is often 'good enough' for many examples. For larger problems users should consider higher-performance solvers, such as COIN-OR CBC, that can take advantage of multi-threaded processors.\n",
        "\n",
        "This also needs to be done once at the start of each Colab session. We will use different engines throughout the course. Here is how you install the different [engines](https://colab.research.google.com/github/jckantor/ND-Pyomo-Cookbook/blob/master/docs/01.02-Running-Pyomo-on-Google-Colab.ipynb#scrollTo=dGbhGS4u7vyV)."
      ],
      "metadata": {
        "id": "dPwM1sv4iMbs"
      }
    },
    {
      "cell_type": "code",
      "source": [
        "!apt-get install -y -qq glpk-utils"
      ],
      "metadata": {
        "id": "bdx03OQduQnR",
        "collapsed": true
      },
      "execution_count": null,
      "outputs": []
    },
    {
      "cell_type": "markdown",
      "source": [
        "# 2 Step-by-step to create and execute an optimization model"
      ],
      "metadata": {
        "id": "4yG-b8pYn-zJ"
      }
    },
    {
      "cell_type": "code",
      "source": [
        "# Create a model, and display the model.\n"
      ],
      "metadata": {
        "id": "l_0swtGYna05"
      },
      "execution_count": null,
      "outputs": []
    },
    {
      "cell_type": "code",
      "source": [
        "# Declare variables\n"
      ],
      "metadata": {
        "id": "Ibd4x8T9rROr"
      },
      "execution_count": null,
      "outputs": []
    },
    {
      "cell_type": "code",
      "source": [
        "# Define constraints\n"
      ],
      "metadata": {
        "id": "u9E2akRHuO5F"
      },
      "execution_count": null,
      "outputs": []
    },
    {
      "cell_type": "code",
      "source": [
        "# Define objective\n"
      ],
      "metadata": {
        "id": "DvenJQNjvqdP"
      },
      "execution_count": null,
      "outputs": []
    },
    {
      "cell_type": "code",
      "source": [
        "# Check model\n"
      ],
      "metadata": {
        "id": "bhpPV20ni-9P"
      },
      "execution_count": null,
      "outputs": []
    },
    {
      "cell_type": "code",
      "source": [
        "# Solve\n"
      ],
      "metadata": {
        "id": "pENukYaTvsmp"
      },
      "execution_count": null,
      "outputs": []
    },
    {
      "cell_type": "code",
      "source": [
        "# Display / obtain solutions\n"
      ],
      "metadata": {
        "id": "Y5b4rOzeyIeW"
      },
      "execution_count": null,
      "outputs": []
    },
    {
      "cell_type": "markdown",
      "source": [
        "# 3 How the completed solution should look"
      ],
      "metadata": {
        "id": "a2_N0QqDnnrr"
      }
    },
    {
      "cell_type": "code",
      "source": [
        "# Check Model\n",
        "model.pprint()"
      ],
      "metadata": {
        "id": "-BwZpTv-E0ga",
        "colab": {
          "base_uri": "https://localhost:8080/"
        },
        "outputId": "3eb0dc99-e782-4af4-9a2e-87bd2f986b73"
      },
      "execution_count": null,
      "outputs": [
        {
          "output_type": "stream",
          "name": "stdout",
          "text": [
            "2 Var Declarations\n",
            "    cars : Size=1, Index=None\n",
            "        Key  : Lower : Value : Upper : Fixed : Stale : Domain\n",
            "        None :     0 :  None :  None : False :  True : NonNegativeReals\n",
            "    trucks : Size=1, Index=None\n",
            "        Key  : Lower : Value : Upper : Fixed : Stale : Domain\n",
            "        None :     0 :  None :  None : False :  True : NonNegativeReals\n",
            "\n",
            "1 Objective Declarations\n",
            "    profit : Size=1, Index=None, Active=True\n",
            "        Key  : Active : Sense    : Expression\n",
            "        None :   True : maximize : 5*cars + 4*trucks\n",
            "\n",
            "2 Constraint Declarations\n",
            "    labor : Size=1, Index=None, Active=True\n",
            "        Key  : Lower : Body              : Upper : Active\n",
            "        None :  -Inf : 4*cars + 6*trucks : 500.0 :   True\n",
            "    machine : Size=1, Index=None, Active=True\n",
            "        Key  : Lower : Body               : Upper : Active\n",
            "        None :  -Inf : 12*cars + 8*trucks : 800.0 :   True\n",
            "\n",
            "5 Declarations: cars trucks labor machine profit\n"
          ]
        }
      ]
    },
    {
      "cell_type": "code",
      "source": [
        "model.display()"
      ],
      "metadata": {
        "colab": {
          "base_uri": "https://localhost:8080/"
        },
        "id": "n7aXrCI0v9-H",
        "outputId": "f8974097-5003-450a-8b53-ad16b3a47a71"
      },
      "execution_count": null,
      "outputs": [
        {
          "output_type": "stream",
          "name": "stdout",
          "text": [
            "Model Cars and Trucks\n",
            "\n",
            "  Variables:\n",
            "    cars : Size=1, Index=None\n",
            "        Key  : Lower : Value : Upper : Fixed : Stale : Domain\n",
            "        None :     0 :  20.0 :  None : False : False : NonNegativeReals\n",
            "    trucks : Size=1, Index=None\n",
            "        Key  : Lower : Value : Upper : Fixed : Stale : Domain\n",
            "        None :     0 :  70.0 :  None : False : False : NonNegativeReals\n",
            "\n",
            "  Objectives:\n",
            "    profit : Size=1, Index=None, Active=True\n",
            "        Key  : Active : Value\n",
            "        None :   True : 380.0\n",
            "\n",
            "  Constraints:\n",
            "    labor : Size=1\n",
            "        Key  : Lower : Body  : Upper\n",
            "        None :  None : 500.0 : 500.0\n",
            "    machine : Size=1\n",
            "        Key  : Lower : Body  : Upper\n",
            "        None :  None : 800.0 : 800.0\n"
          ]
        }
      ]
    }
  ]
}