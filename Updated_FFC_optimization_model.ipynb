{
  "nbformat": 4,
  "nbformat_minor": 0,
  "metadata": {
    "colab": {
      "provenance": [],
      "include_colab_link": true
    },
    "kernelspec": {
      "name": "python3",
      "display_name": "Python 3"
    },
    "language_info": {
      "name": "python"
    }
  },
  "cells": [
    {
      "cell_type": "markdown",
      "metadata": {
        "id": "view-in-github",
        "colab_type": "text"
      },
      "source": [
        "<a href=\"https://colab.research.google.com/github/tmandingwa/tmandingwa/blob/main/Updated_FFC_optimization_model.ipynb\" target=\"_parent\"><img src=\"https://colab.research.google.com/assets/colab-badge.svg\" alt=\"Open In Colab\"/></a>"
      ]
    },
    {
      "cell_type": "markdown",
      "source": [
        "This would be our first instance building and solving an optimization model with python."
      ],
      "metadata": {
        "id": "oiPGAEVpEqsW"
      }
    },
    {
      "cell_type": "markdown",
      "source": [
        "# 1 Running Optimizations with Google Colab\n",
        "\n",
        "We will be using google colab for most of our class. Everything will be executed over the cloud service. This saves you from installing anything on your own local machine. The (small) downside is that you have to install python packages to the colab instance (Steps 1 and 2) at the start of each Colab session.\n",
        "\n",
        "Alternatively, if you prefer to use a local python installation, here is a good [guide](https://github.com/jckantor/ND-Pyomo-Cookbook/blob/main/notebooks/01.01-Installing-Pyomo.ipynb) on how to do get the packages installed, which you only need to do once."
      ],
      "metadata": {
        "id": "Q5Z9ixexuUFo"
      }
    },
    {
      "cell_type": "markdown",
      "source": [
        "## 1.1 Basic installation of Pyomo\n",
        "\n",
        "PYOMO is a Python-based, open-source software package and optimization MODELING LANGUAGE that allows users to formulate, solve, and analyze optimization models.\n",
        "\n",
        "We'll do a quiet installation of pyomo using `pip`.  This needs to be done once at the start of each Colab session.\n"
      ],
      "metadata": {
        "id": "d67ApQofvctC"
      }
    },
    {
      "cell_type": "code",
      "execution_count": null,
      "metadata": {
        "id": "S7E558DiEhYe",
        "collapsed": true
      },
      "outputs": [],
      "source": [
        "!pip install -q pyomo\n",
        "import pyomo.environ as pyo"
      ]
    },
    {
      "cell_type": "markdown",
      "source": [
        "## 1.2 Installation of Solver Engines\n",
        "\n",
        "[GLPK](https://en.wikibooks.org/wiki/GLPK) is a the open-source **G**NU **L**inear **P**rogramming **K**it available for use under the GNU General Public License 3. GLPK is a single-threaded simplex solver generally suited to small to medium scale linear-integer programming problems. It is written in C with minimal dependencies and is therefore highly portable among computers and operating systems. GLPK is often 'good enough' for many examples. For larger problems users should consider higher-performance solvers, such as COIN-OR CBC, that can take advantage of multi-threaded processors.\n",
        "\n",
        "This also needs to be done once at the start of each Colab session. We will use different engines throughout the course. Here is how you install the different [engines](https://colab.research.google.com/github/jckantor/ND-Pyomo-Cookbook/blob/master/docs/01.02-Running-Pyomo-on-Google-Colab.ipynb#scrollTo=dGbhGS4u7vyV)."
      ],
      "metadata": {
        "id": "dPwM1sv4iMbs"
      }
    },
    {
      "cell_type": "code",
      "source": [
        "!apt-get install -y -qq glpk-utils"
      ],
      "metadata": {
        "id": "bdx03OQduQnR",
        "collapsed": true,
        "outputId": "56c5be15-f815-4229-ccbd-eaa47fe61f9f",
        "colab": {
          "base_uri": "https://localhost:8080/"
        }
      },
      "execution_count": null,
      "outputs": [
        {
          "output_type": "stream",
          "name": "stdout",
          "text": [
            "Selecting previously unselected package libsuitesparseconfig5:amd64.\n",
            "(Reading database ... 126718 files and directories currently installed.)\n",
            "Preparing to unpack .../libsuitesparseconfig5_1%3a5.10.1+dfsg-4build1_amd64.deb ...\n",
            "Unpacking libsuitesparseconfig5:amd64 (1:5.10.1+dfsg-4build1) ...\n",
            "Selecting previously unselected package libamd2:amd64.\n",
            "Preparing to unpack .../libamd2_1%3a5.10.1+dfsg-4build1_amd64.deb ...\n",
            "Unpacking libamd2:amd64 (1:5.10.1+dfsg-4build1) ...\n",
            "Selecting previously unselected package libcolamd2:amd64.\n",
            "Preparing to unpack .../libcolamd2_1%3a5.10.1+dfsg-4build1_amd64.deb ...\n",
            "Unpacking libcolamd2:amd64 (1:5.10.1+dfsg-4build1) ...\n",
            "Selecting previously unselected package libglpk40:amd64.\n",
            "Preparing to unpack .../libglpk40_5.0-1_amd64.deb ...\n",
            "Unpacking libglpk40:amd64 (5.0-1) ...\n",
            "Selecting previously unselected package glpk-utils.\n",
            "Preparing to unpack .../glpk-utils_5.0-1_amd64.deb ...\n",
            "Unpacking glpk-utils (5.0-1) ...\n",
            "Setting up libsuitesparseconfig5:amd64 (1:5.10.1+dfsg-4build1) ...\n",
            "Setting up libamd2:amd64 (1:5.10.1+dfsg-4build1) ...\n",
            "Setting up libcolamd2:amd64 (1:5.10.1+dfsg-4build1) ...\n",
            "Setting up libglpk40:amd64 (5.0-1) ...\n",
            "Setting up glpk-utils (5.0-1) ...\n",
            "Processing triggers for man-db (2.10.2-1) ...\n",
            "Processing triggers for libc-bin (2.35-0ubuntu3.8) ...\n",
            "/sbin/ldconfig.real: /usr/local/lib/libur_adapter_level_zero.so.0 is not a symbolic link\n",
            "\n",
            "/sbin/ldconfig.real: /usr/local/lib/libur_adapter_opencl.so.0 is not a symbolic link\n",
            "\n",
            "/sbin/ldconfig.real: /usr/local/lib/libumf.so.0 is not a symbolic link\n",
            "\n",
            "/sbin/ldconfig.real: /usr/local/lib/libtcm.so.1 is not a symbolic link\n",
            "\n",
            "/sbin/ldconfig.real: /usr/local/lib/libtbbbind_2_0.so.3 is not a symbolic link\n",
            "\n",
            "/sbin/ldconfig.real: /usr/local/lib/libtcm_debug.so.1 is not a symbolic link\n",
            "\n",
            "/sbin/ldconfig.real: /usr/local/lib/libhwloc.so.15 is not a symbolic link\n",
            "\n",
            "/sbin/ldconfig.real: /usr/local/lib/libtbbmalloc.so.2 is not a symbolic link\n",
            "\n",
            "/sbin/ldconfig.real: /usr/local/lib/libtbbmalloc_proxy.so.2 is not a symbolic link\n",
            "\n",
            "/sbin/ldconfig.real: /usr/local/lib/libur_adapter_level_zero_v2.so.0 is not a symbolic link\n",
            "\n",
            "/sbin/ldconfig.real: /usr/local/lib/libtbbbind.so.3 is not a symbolic link\n",
            "\n",
            "/sbin/ldconfig.real: /usr/local/lib/libur_loader.so.0 is not a symbolic link\n",
            "\n",
            "/sbin/ldconfig.real: /usr/local/lib/libtbb.so.12 is not a symbolic link\n",
            "\n",
            "/sbin/ldconfig.real: /usr/local/lib/libtbbbind_2_5.so.3 is not a symbolic link\n",
            "\n"
          ]
        }
      ]
    },
    {
      "cell_type": "markdown",
      "source": [
        "# 2 Step-by-step to create and execute an optimization model"
      ],
      "metadata": {
        "id": "4yG-b8pYn-zJ"
      }
    },
    {
      "cell_type": "code",
      "source": [
        "# Create a model, and display the model.\n",
        "model = pyo.ConcreteModel('My FFC optimisation model')"
      ],
      "metadata": {
        "id": "l_0swtGYna05"
      },
      "execution_count": null,
      "outputs": []
    },
    {
      "cell_type": "code",
      "source": [
        "# Declare variables\n",
        "# These creates two objects. One called 'cars', one called 'trucks'\n",
        "# These are variables.\n",
        "model.tables = pyo.Var(domain=pyo.NonNegativeReals, bounds = (100, None))\n",
        "model.chairs = pyo.Var(domain=pyo.NonNegativeReals, bounds = (0, 450))"
      ],
      "metadata": {
        "id": "Ibd4x8T9rROr"
      },
      "execution_count": null,
      "outputs": []
    },
    {
      "cell_type": "code",
      "source": [
        "# Define constraints\n",
        "# Creates a 'labor' object. says it is a constraint with expression X\n",
        "model.capentry = pyo.Constraint(expr = 3*model.tables + 4*model.chairs <= 2400)\n",
        "model.painting = pyo.Constraint(expr = 2*model.tables + 1*model.chairs <= 1000)"
      ],
      "metadata": {
        "id": "u9E2akRHuO5F"
      },
      "execution_count": null,
      "outputs": []
    },
    {
      "cell_type": "code",
      "source": [
        "# Define objective\n",
        "model.profit = pyo.Objective(expr=7*model.tables + 5*model.chairs, sense=pyo.maximize)\n"
      ],
      "metadata": {
        "id": "DvenJQNjvqdP"
      },
      "execution_count": null,
      "outputs": []
    },
    {
      "cell_type": "code",
      "source": [
        "# Check model\n",
        "model.pprint()"
      ],
      "metadata": {
        "id": "bhpPV20ni-9P",
        "colab": {
          "base_uri": "https://localhost:8080/"
        },
        "outputId": "d91b4fa1-676d-4e13-e180-88b805aa0d81"
      },
      "execution_count": null,
      "outputs": [
        {
          "output_type": "stream",
          "name": "stdout",
          "text": [
            "2 Var Declarations\n",
            "    chairs : Size=1, Index=None\n",
            "        Key  : Lower : Value : Upper : Fixed : Stale : Domain\n",
            "        None :     0 :  None :   450 : False :  True : NonNegativeReals\n",
            "    tables : Size=1, Index=None\n",
            "        Key  : Lower : Value : Upper : Fixed : Stale : Domain\n",
            "        None :   100 :  None :  None : False :  True : NonNegativeReals\n",
            "\n",
            "1 Objective Declarations\n",
            "    profit : Size=1, Index=None, Active=True\n",
            "        Key  : Active : Sense    : Expression\n",
            "        None :   True : maximize : 7*tables + 5*chairs\n",
            "\n",
            "2 Constraint Declarations\n",
            "    capentry : Size=1, Index=None, Active=True\n",
            "        Key  : Lower : Body                : Upper  : Active\n",
            "        None :  -Inf : 3*tables + 4*chairs : 2400.0 :   True\n",
            "    painting : Size=1, Index=None, Active=True\n",
            "        Key  : Lower : Body              : Upper  : Active\n",
            "        None :  -Inf : 2*tables + chairs : 1000.0 :   True\n",
            "\n",
            "5 Declarations: tables chairs capentry painting profit\n"
          ]
        }
      ]
    },
    {
      "cell_type": "code",
      "source": [
        "# Solve\n",
        "solver = pyo.SolverFactory('glpk')\n",
        "solver.solve(model)\n"
      ],
      "metadata": {
        "id": "pENukYaTvsmp",
        "outputId": "66e3222b-c1fc-4f95-e0b8-82f5bbdba7e9",
        "colab": {
          "base_uri": "https://localhost:8080/"
        }
      },
      "execution_count": null,
      "outputs": [
        {
          "output_type": "execute_result",
          "data": {
            "text/plain": [
              "{'Problem': [{'Name': 'unknown', 'Lower bound': 4040.0, 'Upper bound': 4040.0, 'Number of objectives': 1, 'Number of constraints': 2, 'Number of variables': 2, 'Number of nonzeros': 4, 'Sense': 'maximize'}], 'Solver': [{'Status': 'ok', 'Termination condition': 'optimal', 'Statistics': {'Branch and bound': {'Number of bounded subproblems': 0, 'Number of created subproblems': 0}}, 'Error rc': 0, 'Time': 0.0037841796875}], 'Solution': [OrderedDict({'number of solutions': 0, 'number of solutions displayed': 0})]}"
            ]
          },
          "metadata": {},
          "execution_count": 9
        }
      ]
    },
    {
      "cell_type": "code",
      "source": [
        "# Display / obtain solutions\n",
        "model.display()"
      ],
      "metadata": {
        "id": "Y5b4rOzeyIeW",
        "outputId": "1ada068f-7d1c-4eb6-c707-900bd066eedf",
        "colab": {
          "base_uri": "https://localhost:8080/"
        }
      },
      "execution_count": null,
      "outputs": [
        {
          "output_type": "stream",
          "name": "stdout",
          "text": [
            "Model My FFC optimisation model\n",
            "\n",
            "  Variables:\n",
            "    tables : Size=1, Index=None\n",
            "        Key  : Lower : Value : Upper : Fixed : Stale : Domain\n",
            "        None :   100 : 320.0 :  None : False : False : NonNegativeReals\n",
            "    chairs : Size=1, Index=None\n",
            "        Key  : Lower : Value : Upper : Fixed : Stale : Domain\n",
            "        None :     0 : 360.0 :   450 : False : False : NonNegativeReals\n",
            "\n",
            "  Objectives:\n",
            "    profit : Size=1, Index=None, Active=True\n",
            "        Key  : Active : Value\n",
            "        None :   True : 4040.0\n",
            "\n",
            "  Constraints:\n",
            "    capentry : Size=1\n",
            "        Key  : Lower : Body   : Upper\n",
            "        None :  None : 2400.0 : 2400.0\n",
            "    painting : Size=1\n",
            "        Key  : Lower : Body   : Upper\n",
            "        None :  None : 1000.0 : 1000.0\n"
          ]
        }
      ]
    }
  ]
}