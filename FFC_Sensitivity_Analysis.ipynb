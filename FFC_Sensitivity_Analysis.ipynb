{
  "nbformat": 4,
  "nbformat_minor": 0,
  "metadata": {
    "colab": {
      "provenance": [],
      "include_colab_link": true
    },
    "kernelspec": {
      "name": "python3",
      "display_name": "Python 3"
    },
    "language_info": {
      "name": "python"
    }
  },
  "cells": [
    {
      "cell_type": "markdown",
      "metadata": {
        "id": "view-in-github",
        "colab_type": "text"
      },
      "source": [
        "<a href=\"https://colab.research.google.com/github/tmandingwa/tmandingwa/blob/main/FFC_Sensitivity_Analysis.ipynb\" target=\"_parent\"><img src=\"https://colab.research.google.com/assets/colab-badge.svg\" alt=\"Open In Colab\"/></a>"
      ]
    },
    {
      "cell_type": "markdown",
      "source": [
        "# 1 Sensitivity analysis using a Solver Table\n",
        "\n",
        "That is, solving the optimization model multiple times as parameters change.\n",
        "\n",
        "This set of codes guide you on how to perform sensitivity analysis to analyze how changes in model parameters affect your objective function and solution."
      ],
      "metadata": {
        "id": "Rj6dA1D8ihCn"
      }
    },
    {
      "cell_type": "code",
      "execution_count": null,
      "metadata": {
        "id": "S7E558DiEhYe",
        "collapsed": true
      },
      "outputs": [],
      "source": [
        "# Usual installation of packages and importing the packages we will use\n",
        "!pip install -q pyomo\n",
        "!apt-get install -y -qq glpk-utils\n",
        "import pyomo.environ as pyo\n",
        "import pandas as pd"
      ]
    },
    {
      "cell_type": "markdown",
      "source": [
        "## 1.1 Your playground to a step-by-step approach to generate a solver table"
      ],
      "metadata": {
        "id": "wEA9s4tgjcdA"
      }
    },
    {
      "cell_type": "code",
      "source": [
        "# The usual model setup. For your reference.\n",
        "model = pyo.ConcreteModel('Cars and Trucks')\n",
        "model.cars = pyo.Var(domain=pyo.NonNegativeReals)\n",
        "model.trucks = pyo.Var(domain=pyo.NonNegativeReals)\n",
        "model.labor = pyo.Constraint(expr=4 * model.cars + 6 * model.trucks <= 500)\n",
        "model.machine = pyo.Constraint(expr=12 * model.cars + 8 * model.trucks <= 800)\n",
        "model.profit = pyo.Objective(expr=5 * model.cars + 4 * model.trucks, sense=pyo.maximize)\n",
        "solver = pyo.SolverFactory('glpk')\n",
        "solver.solve(model)"
      ],
      "metadata": {
        "id": "M5egJ32Lc47B",
        "colab": {
          "base_uri": "https://localhost:8080/"
        },
        "outputId": "0273181e-b34c-4613-881d-d5c17784804d"
      },
      "execution_count": null,
      "outputs": [
        {
          "output_type": "execute_result",
          "data": {
            "text/plain": [
              "{'Problem': [{'Name': 'unknown', 'Lower bound': 380.0, 'Upper bound': 380.0, 'Number of objectives': 1, 'Number of constraints': 2, 'Number of variables': 2, 'Number of nonzeros': 4, 'Sense': 'maximize'}], 'Solver': [{'Status': 'ok', 'Termination condition': 'optimal', 'Statistics': {'Branch and bound': {'Number of bounded subproblems': 0, 'Number of created subproblems': 0}}, 'Error rc': 0, 'Time': 0.010085821151733398}], 'Solution': [OrderedDict({'number of solutions': 0, 'number of solutions displayed': 0})]}"
            ]
          },
          "metadata": {},
          "execution_count": 19
        }
      ]
    },
    {
      "cell_type": "code",
      "source": [
        "# TO MODIFY: Steps\n",
        "# 1. Wrap your codes in a function.\n",
        "# 2. Update inputs. Labor, Machine.\n",
        "# 3. Generate outputs. Labor Input, Machine Input, Labor Use, Machine Use, Optimal Cars, Optimal Trucks, Optimal Profit.\n",
        "def optimize_cars_and_trucks (labor = 500, machine = 800):\n",
        "  model = pyo.ConcreteModel('Cars and Trucks')\n",
        "  model.cars = pyo.Var(domain=pyo.NonNegativeReals)\n",
        "  model.trucks = pyo.Var(domain=pyo.NonNegativeReals)\n",
        "  model.labor = pyo.Constraint(expr=4 * model.cars + 6 * model.trucks <= labor)\n",
        "  model.machine = pyo.Constraint(expr=12 * model.cars + 8 * model.trucks <= machine)\n",
        "  model.profit = pyo.Objective(expr=5 * model.cars + 4 * model.trucks, sense=pyo.maximize)\n",
        "  solver = pyo.SolverFactory('glpk')\n",
        "  solver.solve(model)\n",
        "  return [labor, machine, model.labor(), model.machine(), model.cars(), model.trucks(), model.profit()]"
      ],
      "metadata": {
        "id": "pSRpN0lwmgeu"
      },
      "execution_count": null,
      "outputs": []
    },
    {
      "cell_type": "code",
      "source": [
        "# Run your codes over a range of labor values\n",
        "results = [optimize_cars_and_trucks(labor=l) for l in range(500,1000,50)]\n",
        "results"
      ],
      "metadata": {
        "id": "T2MNrJNNmiqG",
        "colab": {
          "base_uri": "https://localhost:8080/"
        },
        "outputId": "b3b08b64-6619-441b-b6fb-fad423591b84"
      },
      "execution_count": null,
      "outputs": [
        {
          "output_type": "execute_result",
          "data": {
            "text/plain": [
              "[[500, 800, 500.0, 800.0, 20.0, 70.0, 380.0],\n",
              " [550,\n",
              "  800,\n",
              "  550.0,\n",
              "  799.9999999999999,\n",
              "  9.99999999999999,\n",
              "  85.0,\n",
              "  389.99999999999994],\n",
              " [600, 800, 600.0, 800.0, 0.0, 100.0, 400.0],\n",
              " [650, 800, 600.0, 800.0, 0.0, 100.0, 400.0],\n",
              " [700, 800, 600.0, 800.0, 0.0, 100.0, 400.0],\n",
              " [750, 800, 600.0, 800.0, 0.0, 100.0, 400.0],\n",
              " [800, 800, 600.0, 800.0, 0.0, 100.0, 400.0],\n",
              " [850, 800, 600.0, 800.0, 0.0, 100.0, 400.0],\n",
              " [900, 800, 600.0, 800.0, 0.0, 100.0, 400.0],\n",
              " [950, 800, 600.0, 800.0, 0.0, 100.0, 400.0]]"
            ]
          },
          "metadata": {},
          "execution_count": 38
        }
      ]
    },
    {
      "cell_type": "code",
      "source": [
        "# Display your solutions\n",
        "df = pd.DataFrame(results, columns=['labor RHS', 'machine RHS', 'labor use', 'machine use', 'cars', 'trucks', 'profit'])\n",
        "df"
      ],
      "metadata": {
        "id": "lrtG5IDtmlBR",
        "colab": {
          "base_uri": "https://localhost:8080/",
          "height": 363
        },
        "outputId": "66b780bd-cad7-4ae2-a8a7-6e2247d84a10"
      },
      "execution_count": null,
      "outputs": [
        {
          "output_type": "execute_result",
          "data": {
            "text/plain": [
              "   labor RHS  machine RHS  labor use  machine use  cars  trucks  profit\n",
              "0        500          800      500.0        800.0  20.0    70.0   380.0\n",
              "1        550          800      550.0        800.0  10.0    85.0   390.0\n",
              "2        600          800      600.0        800.0   0.0   100.0   400.0\n",
              "3        650          800      600.0        800.0   0.0   100.0   400.0\n",
              "4        700          800      600.0        800.0   0.0   100.0   400.0\n",
              "5        750          800      600.0        800.0   0.0   100.0   400.0\n",
              "6        800          800      600.0        800.0   0.0   100.0   400.0\n",
              "7        850          800      600.0        800.0   0.0   100.0   400.0\n",
              "8        900          800      600.0        800.0   0.0   100.0   400.0\n",
              "9        950          800      600.0        800.0   0.0   100.0   400.0"
            ],
            "text/html": [
              "\n",
              "  <div id=\"df-233a4088-b3cd-47bc-a6b6-392d3348b055\" class=\"colab-df-container\">\n",
              "    <div>\n",
              "<style scoped>\n",
              "    .dataframe tbody tr th:only-of-type {\n",
              "        vertical-align: middle;\n",
              "    }\n",
              "\n",
              "    .dataframe tbody tr th {\n",
              "        vertical-align: top;\n",
              "    }\n",
              "\n",
              "    .dataframe thead th {\n",
              "        text-align: right;\n",
              "    }\n",
              "</style>\n",
              "<table border=\"1\" class=\"dataframe\">\n",
              "  <thead>\n",
              "    <tr style=\"text-align: right;\">\n",
              "      <th></th>\n",
              "      <th>labor RHS</th>\n",
              "      <th>machine RHS</th>\n",
              "      <th>labor use</th>\n",
              "      <th>machine use</th>\n",
              "      <th>cars</th>\n",
              "      <th>trucks</th>\n",
              "      <th>profit</th>\n",
              "    </tr>\n",
              "  </thead>\n",
              "  <tbody>\n",
              "    <tr>\n",
              "      <th>0</th>\n",
              "      <td>500</td>\n",
              "      <td>800</td>\n",
              "      <td>500.0</td>\n",
              "      <td>800.0</td>\n",
              "      <td>20.0</td>\n",
              "      <td>70.0</td>\n",
              "      <td>380.0</td>\n",
              "    </tr>\n",
              "    <tr>\n",
              "      <th>1</th>\n",
              "      <td>550</td>\n",
              "      <td>800</td>\n",
              "      <td>550.0</td>\n",
              "      <td>800.0</td>\n",
              "      <td>10.0</td>\n",
              "      <td>85.0</td>\n",
              "      <td>390.0</td>\n",
              "    </tr>\n",
              "    <tr>\n",
              "      <th>2</th>\n",
              "      <td>600</td>\n",
              "      <td>800</td>\n",
              "      <td>600.0</td>\n",
              "      <td>800.0</td>\n",
              "      <td>0.0</td>\n",
              "      <td>100.0</td>\n",
              "      <td>400.0</td>\n",
              "    </tr>\n",
              "    <tr>\n",
              "      <th>3</th>\n",
              "      <td>650</td>\n",
              "      <td>800</td>\n",
              "      <td>600.0</td>\n",
              "      <td>800.0</td>\n",
              "      <td>0.0</td>\n",
              "      <td>100.0</td>\n",
              "      <td>400.0</td>\n",
              "    </tr>\n",
              "    <tr>\n",
              "      <th>4</th>\n",
              "      <td>700</td>\n",
              "      <td>800</td>\n",
              "      <td>600.0</td>\n",
              "      <td>800.0</td>\n",
              "      <td>0.0</td>\n",
              "      <td>100.0</td>\n",
              "      <td>400.0</td>\n",
              "    </tr>\n",
              "    <tr>\n",
              "      <th>5</th>\n",
              "      <td>750</td>\n",
              "      <td>800</td>\n",
              "      <td>600.0</td>\n",
              "      <td>800.0</td>\n",
              "      <td>0.0</td>\n",
              "      <td>100.0</td>\n",
              "      <td>400.0</td>\n",
              "    </tr>\n",
              "    <tr>\n",
              "      <th>6</th>\n",
              "      <td>800</td>\n",
              "      <td>800</td>\n",
              "      <td>600.0</td>\n",
              "      <td>800.0</td>\n",
              "      <td>0.0</td>\n",
              "      <td>100.0</td>\n",
              "      <td>400.0</td>\n",
              "    </tr>\n",
              "    <tr>\n",
              "      <th>7</th>\n",
              "      <td>850</td>\n",
              "      <td>800</td>\n",
              "      <td>600.0</td>\n",
              "      <td>800.0</td>\n",
              "      <td>0.0</td>\n",
              "      <td>100.0</td>\n",
              "      <td>400.0</td>\n",
              "    </tr>\n",
              "    <tr>\n",
              "      <th>8</th>\n",
              "      <td>900</td>\n",
              "      <td>800</td>\n",
              "      <td>600.0</td>\n",
              "      <td>800.0</td>\n",
              "      <td>0.0</td>\n",
              "      <td>100.0</td>\n",
              "      <td>400.0</td>\n",
              "    </tr>\n",
              "    <tr>\n",
              "      <th>9</th>\n",
              "      <td>950</td>\n",
              "      <td>800</td>\n",
              "      <td>600.0</td>\n",
              "      <td>800.0</td>\n",
              "      <td>0.0</td>\n",
              "      <td>100.0</td>\n",
              "      <td>400.0</td>\n",
              "    </tr>\n",
              "  </tbody>\n",
              "</table>\n",
              "</div>\n",
              "    <div class=\"colab-df-buttons\">\n",
              "\n",
              "  <div class=\"colab-df-container\">\n",
              "    <button class=\"colab-df-convert\" onclick=\"convertToInteractive('df-233a4088-b3cd-47bc-a6b6-392d3348b055')\"\n",
              "            title=\"Convert this dataframe to an interactive table.\"\n",
              "            style=\"display:none;\">\n",
              "\n",
              "  <svg xmlns=\"http://www.w3.org/2000/svg\" height=\"24px\" viewBox=\"0 -960 960 960\">\n",
              "    <path d=\"M120-120v-720h720v720H120Zm60-500h600v-160H180v160Zm220 220h160v-160H400v160Zm0 220h160v-160H400v160ZM180-400h160v-160H180v160Zm440 0h160v-160H620v160ZM180-180h160v-160H180v160Zm440 0h160v-160H620v160Z\"/>\n",
              "  </svg>\n",
              "    </button>\n",
              "\n",
              "  <style>\n",
              "    .colab-df-container {\n",
              "      display:flex;\n",
              "      gap: 12px;\n",
              "    }\n",
              "\n",
              "    .colab-df-convert {\n",
              "      background-color: #E8F0FE;\n",
              "      border: none;\n",
              "      border-radius: 50%;\n",
              "      cursor: pointer;\n",
              "      display: none;\n",
              "      fill: #1967D2;\n",
              "      height: 32px;\n",
              "      padding: 0 0 0 0;\n",
              "      width: 32px;\n",
              "    }\n",
              "\n",
              "    .colab-df-convert:hover {\n",
              "      background-color: #E2EBFA;\n",
              "      box-shadow: 0px 1px 2px rgba(60, 64, 67, 0.3), 0px 1px 3px 1px rgba(60, 64, 67, 0.15);\n",
              "      fill: #174EA6;\n",
              "    }\n",
              "\n",
              "    .colab-df-buttons div {\n",
              "      margin-bottom: 4px;\n",
              "    }\n",
              "\n",
              "    [theme=dark] .colab-df-convert {\n",
              "      background-color: #3B4455;\n",
              "      fill: #D2E3FC;\n",
              "    }\n",
              "\n",
              "    [theme=dark] .colab-df-convert:hover {\n",
              "      background-color: #434B5C;\n",
              "      box-shadow: 0px 1px 3px 1px rgba(0, 0, 0, 0.15);\n",
              "      filter: drop-shadow(0px 1px 2px rgba(0, 0, 0, 0.3));\n",
              "      fill: #FFFFFF;\n",
              "    }\n",
              "  </style>\n",
              "\n",
              "    <script>\n",
              "      const buttonEl =\n",
              "        document.querySelector('#df-233a4088-b3cd-47bc-a6b6-392d3348b055 button.colab-df-convert');\n",
              "      buttonEl.style.display =\n",
              "        google.colab.kernel.accessAllowed ? 'block' : 'none';\n",
              "\n",
              "      async function convertToInteractive(key) {\n",
              "        const element = document.querySelector('#df-233a4088-b3cd-47bc-a6b6-392d3348b055');\n",
              "        const dataTable =\n",
              "          await google.colab.kernel.invokeFunction('convertToInteractive',\n",
              "                                                    [key], {});\n",
              "        if (!dataTable) return;\n",
              "\n",
              "        const docLinkHtml = 'Like what you see? Visit the ' +\n",
              "          '<a target=\"_blank\" href=https://colab.research.google.com/notebooks/data_table.ipynb>data table notebook</a>'\n",
              "          + ' to learn more about interactive tables.';\n",
              "        element.innerHTML = '';\n",
              "        dataTable['output_type'] = 'display_data';\n",
              "        await google.colab.output.renderOutput(dataTable, element);\n",
              "        const docLink = document.createElement('div');\n",
              "        docLink.innerHTML = docLinkHtml;\n",
              "        element.appendChild(docLink);\n",
              "      }\n",
              "    </script>\n",
              "  </div>\n",
              "\n",
              "\n",
              "    <div id=\"df-3cbfbd2b-4e3c-4c80-8228-8253f664634e\">\n",
              "      <button class=\"colab-df-quickchart\" onclick=\"quickchart('df-3cbfbd2b-4e3c-4c80-8228-8253f664634e')\"\n",
              "                title=\"Suggest charts\"\n",
              "                style=\"display:none;\">\n",
              "\n",
              "<svg xmlns=\"http://www.w3.org/2000/svg\" height=\"24px\"viewBox=\"0 0 24 24\"\n",
              "     width=\"24px\">\n",
              "    <g>\n",
              "        <path d=\"M19 3H5c-1.1 0-2 .9-2 2v14c0 1.1.9 2 2 2h14c1.1 0 2-.9 2-2V5c0-1.1-.9-2-2-2zM9 17H7v-7h2v7zm4 0h-2V7h2v10zm4 0h-2v-4h2v4z\"/>\n",
              "    </g>\n",
              "</svg>\n",
              "      </button>\n",
              "\n",
              "<style>\n",
              "  .colab-df-quickchart {\n",
              "      --bg-color: #E8F0FE;\n",
              "      --fill-color: #1967D2;\n",
              "      --hover-bg-color: #E2EBFA;\n",
              "      --hover-fill-color: #174EA6;\n",
              "      --disabled-fill-color: #AAA;\n",
              "      --disabled-bg-color: #DDD;\n",
              "  }\n",
              "\n",
              "  [theme=dark] .colab-df-quickchart {\n",
              "      --bg-color: #3B4455;\n",
              "      --fill-color: #D2E3FC;\n",
              "      --hover-bg-color: #434B5C;\n",
              "      --hover-fill-color: #FFFFFF;\n",
              "      --disabled-bg-color: #3B4455;\n",
              "      --disabled-fill-color: #666;\n",
              "  }\n",
              "\n",
              "  .colab-df-quickchart {\n",
              "    background-color: var(--bg-color);\n",
              "    border: none;\n",
              "    border-radius: 50%;\n",
              "    cursor: pointer;\n",
              "    display: none;\n",
              "    fill: var(--fill-color);\n",
              "    height: 32px;\n",
              "    padding: 0;\n",
              "    width: 32px;\n",
              "  }\n",
              "\n",
              "  .colab-df-quickchart:hover {\n",
              "    background-color: var(--hover-bg-color);\n",
              "    box-shadow: 0 1px 2px rgba(60, 64, 67, 0.3), 0 1px 3px 1px rgba(60, 64, 67, 0.15);\n",
              "    fill: var(--button-hover-fill-color);\n",
              "  }\n",
              "\n",
              "  .colab-df-quickchart-complete:disabled,\n",
              "  .colab-df-quickchart-complete:disabled:hover {\n",
              "    background-color: var(--disabled-bg-color);\n",
              "    fill: var(--disabled-fill-color);\n",
              "    box-shadow: none;\n",
              "  }\n",
              "\n",
              "  .colab-df-spinner {\n",
              "    border: 2px solid var(--fill-color);\n",
              "    border-color: transparent;\n",
              "    border-bottom-color: var(--fill-color);\n",
              "    animation:\n",
              "      spin 1s steps(1) infinite;\n",
              "  }\n",
              "\n",
              "  @keyframes spin {\n",
              "    0% {\n",
              "      border-color: transparent;\n",
              "      border-bottom-color: var(--fill-color);\n",
              "      border-left-color: var(--fill-color);\n",
              "    }\n",
              "    20% {\n",
              "      border-color: transparent;\n",
              "      border-left-color: var(--fill-color);\n",
              "      border-top-color: var(--fill-color);\n",
              "    }\n",
              "    30% {\n",
              "      border-color: transparent;\n",
              "      border-left-color: var(--fill-color);\n",
              "      border-top-color: var(--fill-color);\n",
              "      border-right-color: var(--fill-color);\n",
              "    }\n",
              "    40% {\n",
              "      border-color: transparent;\n",
              "      border-right-color: var(--fill-color);\n",
              "      border-top-color: var(--fill-color);\n",
              "    }\n",
              "    60% {\n",
              "      border-color: transparent;\n",
              "      border-right-color: var(--fill-color);\n",
              "    }\n",
              "    80% {\n",
              "      border-color: transparent;\n",
              "      border-right-color: var(--fill-color);\n",
              "      border-bottom-color: var(--fill-color);\n",
              "    }\n",
              "    90% {\n",
              "      border-color: transparent;\n",
              "      border-bottom-color: var(--fill-color);\n",
              "    }\n",
              "  }\n",
              "</style>\n",
              "\n",
              "      <script>\n",
              "        async function quickchart(key) {\n",
              "          const quickchartButtonEl =\n",
              "            document.querySelector('#' + key + ' button');\n",
              "          quickchartButtonEl.disabled = true;  // To prevent multiple clicks.\n",
              "          quickchartButtonEl.classList.add('colab-df-spinner');\n",
              "          try {\n",
              "            const charts = await google.colab.kernel.invokeFunction(\n",
              "                'suggestCharts', [key], {});\n",
              "          } catch (error) {\n",
              "            console.error('Error during call to suggestCharts:', error);\n",
              "          }\n",
              "          quickchartButtonEl.classList.remove('colab-df-spinner');\n",
              "          quickchartButtonEl.classList.add('colab-df-quickchart-complete');\n",
              "        }\n",
              "        (() => {\n",
              "          let quickchartButtonEl =\n",
              "            document.querySelector('#df-3cbfbd2b-4e3c-4c80-8228-8253f664634e button');\n",
              "          quickchartButtonEl.style.display =\n",
              "            google.colab.kernel.accessAllowed ? 'block' : 'none';\n",
              "        })();\n",
              "      </script>\n",
              "    </div>\n",
              "\n",
              "  <div id=\"id_b63d893c-7128-4e14-9d3d-ebe655e2e02b\">\n",
              "    <style>\n",
              "      .colab-df-generate {\n",
              "        background-color: #E8F0FE;\n",
              "        border: none;\n",
              "        border-radius: 50%;\n",
              "        cursor: pointer;\n",
              "        display: none;\n",
              "        fill: #1967D2;\n",
              "        height: 32px;\n",
              "        padding: 0 0 0 0;\n",
              "        width: 32px;\n",
              "      }\n",
              "\n",
              "      .colab-df-generate:hover {\n",
              "        background-color: #E2EBFA;\n",
              "        box-shadow: 0px 1px 2px rgba(60, 64, 67, 0.3), 0px 1px 3px 1px rgba(60, 64, 67, 0.15);\n",
              "        fill: #174EA6;\n",
              "      }\n",
              "\n",
              "      [theme=dark] .colab-df-generate {\n",
              "        background-color: #3B4455;\n",
              "        fill: #D2E3FC;\n",
              "      }\n",
              "\n",
              "      [theme=dark] .colab-df-generate:hover {\n",
              "        background-color: #434B5C;\n",
              "        box-shadow: 0px 1px 3px 1px rgba(0, 0, 0, 0.15);\n",
              "        filter: drop-shadow(0px 1px 2px rgba(0, 0, 0, 0.3));\n",
              "        fill: #FFFFFF;\n",
              "      }\n",
              "    </style>\n",
              "    <button class=\"colab-df-generate\" onclick=\"generateWithVariable('df')\"\n",
              "            title=\"Generate code using this dataframe.\"\n",
              "            style=\"display:none;\">\n",
              "\n",
              "  <svg xmlns=\"http://www.w3.org/2000/svg\" height=\"24px\"viewBox=\"0 0 24 24\"\n",
              "       width=\"24px\">\n",
              "    <path d=\"M7,19H8.4L18.45,9,17,7.55,7,17.6ZM5,21V16.75L18.45,3.32a2,2,0,0,1,2.83,0l1.4,1.43a1.91,1.91,0,0,1,.58,1.4,1.91,1.91,0,0,1-.58,1.4L9.25,21ZM18.45,9,17,7.55Zm-12,3A5.31,5.31,0,0,0,4.9,8.1,5.31,5.31,0,0,0,1,6.5,5.31,5.31,0,0,0,4.9,4.9,5.31,5.31,0,0,0,6.5,1,5.31,5.31,0,0,0,8.1,4.9,5.31,5.31,0,0,0,12,6.5,5.46,5.46,0,0,0,6.5,12Z\"/>\n",
              "  </svg>\n",
              "    </button>\n",
              "    <script>\n",
              "      (() => {\n",
              "      const buttonEl =\n",
              "        document.querySelector('#id_b63d893c-7128-4e14-9d3d-ebe655e2e02b button.colab-df-generate');\n",
              "      buttonEl.style.display =\n",
              "        google.colab.kernel.accessAllowed ? 'block' : 'none';\n",
              "\n",
              "      buttonEl.onclick = () => {\n",
              "        google.colab.notebook.generateWithVariable('df');\n",
              "      }\n",
              "      })();\n",
              "    </script>\n",
              "  </div>\n",
              "\n",
              "    </div>\n",
              "  </div>\n"
            ],
            "application/vnd.google.colaboratory.intrinsic+json": {
              "type": "dataframe",
              "variable_name": "df",
              "summary": "{\n  \"name\": \"df\",\n  \"rows\": 10,\n  \"fields\": [\n    {\n      \"column\": \"labor RHS\",\n      \"properties\": {\n        \"dtype\": \"number\",\n        \"std\": 151,\n        \"min\": 500,\n        \"max\": 950,\n        \"num_unique_values\": 10,\n        \"samples\": [\n          900,\n          550,\n          750\n        ],\n        \"semantic_type\": \"\",\n        \"description\": \"\"\n      }\n    },\n    {\n      \"column\": \"machine RHS\",\n      \"properties\": {\n        \"dtype\": \"number\",\n        \"std\": 0,\n        \"min\": 800,\n        \"max\": 800,\n        \"num_unique_values\": 1,\n        \"samples\": [\n          800\n        ],\n        \"semantic_type\": \"\",\n        \"description\": \"\"\n      }\n    },\n    {\n      \"column\": \"labor use\",\n      \"properties\": {\n        \"dtype\": \"number\",\n        \"std\": 33.74742788552764,\n        \"min\": 500.0,\n        \"max\": 600.0,\n        \"num_unique_values\": 3,\n        \"samples\": [\n          500.0\n        ],\n        \"semantic_type\": \"\",\n        \"description\": \"\"\n      }\n    },\n    {\n      \"column\": \"machine use\",\n      \"properties\": {\n        \"dtype\": \"number\",\n        \"std\": 3.789561257387201e-14,\n        \"min\": 799.9999999999999,\n        \"max\": 800.0,\n        \"num_unique_values\": 2,\n        \"samples\": [\n          799.9999999999999\n        ],\n        \"semantic_type\": \"\",\n        \"description\": \"\"\n      }\n    },\n    {\n      \"column\": \"cars\",\n      \"properties\": {\n        \"dtype\": \"number\",\n        \"std\": 6.749485577105528,\n        \"min\": 0.0,\n        \"max\": 20.0,\n        \"num_unique_values\": 3,\n        \"samples\": [\n          20.0\n        ],\n        \"semantic_type\": \"\",\n        \"description\": \"\"\n      }\n    },\n    {\n      \"column\": \"trucks\",\n      \"properties\": {\n        \"dtype\": \"number\",\n        \"std\": 10.124228365658293,\n        \"min\": 70.0,\n        \"max\": 100.0,\n        \"num_unique_values\": 3,\n        \"samples\": [\n          70.0\n        ],\n        \"semantic_type\": \"\",\n        \"description\": \"\"\n      }\n    },\n    {\n      \"column\": \"profit\",\n      \"properties\": {\n        \"dtype\": \"number\",\n        \"std\": 6.749485577105536,\n        \"min\": 380.0,\n        \"max\": 400.0,\n        \"num_unique_values\": 3,\n        \"samples\": [\n          380.0\n        ],\n        \"semantic_type\": \"\",\n        \"description\": \"\"\n      }\n    }\n  ]\n}"
            }
          },
          "metadata": {},
          "execution_count": 39
        }
      ]
    },
    {
      "cell_type": "markdown",
      "source": [
        "## 1.2 Expected output"
      ],
      "metadata": {
        "id": "py0OaElAmdaa"
      }
    },
    {
      "cell_type": "markdown",
      "source": [
        "# 2 Sensitivity analysis using the \"model dual\".\n",
        "\n",
        "PYOMO offers an alternative \"shorthand\" to generate shadow prices. This is very useful if you have a large number of constraints and do not want to calculate / generate shadow prices from the Solver Table.\n"
      ],
      "metadata": {
        "id": "wUV7qtfDoXP3"
      }
    },
    {
      "cell_type": "code",
      "source": [
        "# The usual model setup\n",
        "model = pyo.ConcreteModel('Cars and Trucks')\n",
        "model.cars = pyo.Var(domain=pyo.NonNegativeReals)\n",
        "model.trucks = pyo.Var(domain=pyo.NonNegativeReals)\n",
        "model.labor = pyo.Constraint(expr=4 * model.cars + 6 * model.trucks <= 500)\n",
        "model.machine = pyo.Constraint(expr=12 * model.cars + 8 * model.trucks <= 800)\n",
        "model.profit = pyo.Objective(expr=5 * model.cars + 4 * model.trucks, sense=pyo.maximize)\n",
        "\n",
        "# New line\n",
        "model.dual = pyo.Suffix(direction=pyo.Suffix.IMPORT)\n",
        "\n",
        "# Solve\n",
        "solver = pyo.SolverFactory('glpk')\n",
        "solver.solve(model)"
      ],
      "metadata": {
        "colab": {
          "base_uri": "https://localhost:8080/"
        },
        "id": "4iim1_8RoWx_",
        "outputId": "e425d332-a219-43a3-f06b-7df5ca4ea934"
      },
      "execution_count": null,
      "outputs": [
        {
          "output_type": "execute_result",
          "data": {
            "text/plain": [
              "{'Problem': [{'Name': 'unknown', 'Lower bound': 380.0, 'Upper bound': 380.0, 'Number of objectives': 1, 'Number of constraints': 2, 'Number of variables': 2, 'Number of nonzeros': 4, 'Sense': 'maximize'}], 'Solver': [{'Status': 'ok', 'Termination condition': 'optimal', 'Statistics': {'Branch and bound': {'Number of bounded subproblems': 0, 'Number of created subproblems': 0}}, 'Error rc': 0, 'Time': 0.0046596527099609375}], 'Solution': [OrderedDict({'number of solutions': 0, 'number of solutions displayed': 0})]}"
            ]
          },
          "metadata": {},
          "execution_count": 11
        }
      ]
    },
    {
      "cell_type": "code",
      "source": [
        "# Displaying values\n",
        "model.dual.display()"
      ],
      "metadata": {
        "colab": {
          "base_uri": "https://localhost:8080/"
        },
        "id": "M9BbB_ayp0yF",
        "outputId": "38d4fb47-28d5-4083-daf3-bfca514bfb7d"
      },
      "execution_count": null,
      "outputs": [
        {
          "output_type": "stream",
          "name": "stdout",
          "text": [
            "dual : Direction=IMPORT, Datatype=FLOAT\n",
            "    Key     : Value\n",
            "      labor :   0.2\n",
            "    machine :  0.35\n"
          ]
        }
      ]
    },
    {
      "cell_type": "code",
      "source": [
        "# Outputting values for later use\n",
        "model.dual[model.labor]\n"
      ],
      "metadata": {
        "colab": {
          "base_uri": "https://localhost:8080/"
        },
        "id": "Z1eGhhTar5Vr",
        "outputId": "7f6224df-38ef-46fa-81e6-4708bc9b3e41"
      },
      "execution_count": null,
      "outputs": [
        {
          "output_type": "execute_result",
          "data": {
            "text/plain": [
              "0.2"
            ]
          },
          "metadata": {},
          "execution_count": 15
        }
      ]
    },
    {
      "cell_type": "code",
      "source": [
        "model.dual[model.machine]"
      ],
      "metadata": {
        "colab": {
          "base_uri": "https://localhost:8080/"
        },
        "id": "E_Ux0SaOIkIj",
        "outputId": "18fff8b7-169b-419b-d2b4-732085767db4"
      },
      "execution_count": null,
      "outputs": [
        {
          "output_type": "execute_result",
          "data": {
            "text/plain": [
              "0.35"
            ]
          },
          "metadata": {},
          "execution_count": 14
        }
      ]
    }
  ]
}